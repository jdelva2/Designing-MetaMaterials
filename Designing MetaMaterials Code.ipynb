{
 "cells": [
  {
   "cell_type": "code",
   "execution_count": 15,
   "metadata": {},
   "outputs": [],
   "source": [
    "from numpy import linalg\n",
    "import numpy as np\n",
    "from math import *\n",
    "from cmath import *\n",
    "import cmath\n",
    "import matplotlib.pyplot as plt"
   ]
  },
  {
   "cell_type": "code",
   "execution_count": 22,
   "metadata": {},
   "outputs": [
    {
     "name": "stdout",
     "output_type": "stream",
     "text": [
      "Reflectance and Transmittance Values: \n",
      "R =  (0.6774420628343364+0.6958881648197852j)\n",
      "T =  (0.045408259970972496-0.23398718659986248j)\n",
      "\n",
      "\n",
      "Conservation of Energy: \n",
      "delta=  (2.0816681711721685e-16+0j)\n"
     ]
    },
    {
     "data": {
      "image/png": "[encoded data removed]",
      "text/plain": [
       "<Figure size 432x288 with 1 Axes>"
      ]
     },
     "metadata": {
      "needs_background": "light"
     },
     "output_type": "display_data"
    }
   ],
   "source": [
    "def TM_four_layer_solver():\n",
    "    lmda = 0.700\n",
    "    h = 0.1/2*1.0\n",
    "    k0 = 2*pi/lmda\n",
    "    ku = 1*k0\n",
    "    kv1 = cmath.sqrt(-2.2)*k0  #Permativity of Silver is about -23\n",
    "    kv2 = cmath.sqrt(-23) *k0   #Permativity of Glass is about 2.2\n",
    "    kw = cmath.sqrt(1)*k0\n",
    "    \n",
    "    a1 = 0\n",
    "    a2 = -h/2\n",
    "    a3 = -h\n",
    "    \n",
    "    tao1 = (ku**2)/(kv1**2)\n",
    "    tao2 = (kv1**2)/ (kv2**2)\n",
    "    tao3 = (kv2**2)/ (kw**2)\n",
    "    \n",
    "    Cu = cos(ku*a1)\n",
    "    Su = sin(ku*a1)\n",
    "    \n",
    "    Cv1a1 = cos(kv1*a1)\n",
    "    Sv1a1 = sin(kv1*a1)\n",
    "    Cv1a2 = cos(kv1*a2)\n",
    "    Sv1a2 = sin(kv1*a2)\n",
    "    \n",
    "    Cv2a2 = cos(kv2*a2)\n",
    "    Sv2a2 = sin(kv2*a2)\n",
    "    Cv2a3 = cos(kv2*a3)\n",
    "    Sv2a3 = sin(kv2*a3)\n",
    "    \n",
    "    Cw = cos(kw*a3)\n",
    "    Sw = sin(kw*a3)\n",
    "    \n",
    "    nrow1 = [complex(Cu,Su), complex(-Cv1a1,Sv1a1),complex(-Cv1a1,-Sv1a1),0,0,0]\n",
    "    nrow2 = [ku*(complex(Cu,Su)),tao1*kv1*(complex(Cv1a1, -Sv1a1)),\n",
    "            tao1*kv1*(complex(-Cv1a1,-Sv1a1)),0,0,0]\n",
    "    nrow3 = [0, complex(Cv1a2,-Sv1a2), complex(Cv1a2,Sv1a2),\n",
    "            complex(-Cv2a2,Sv2a2), complex(-Cv2a2,-Sv2a2), 0 ]\n",
    "    nrow4 = [0,kv1* complex(-Cv1a2,Sv1a2),kv1*complex(Cv1a2,Sv1a2),\n",
    "            tao2*kv2*complex(Cv2a2,-Sv2a2), tao2*kv2*complex(-Cv2a2,-Sv2a2), 0]\n",
    "    nrow5 = [0,0,0,complex(Cv2a3,-Sv2a3), complex(Cv2a3,Sv2a3), complex(-Cw,Sw)]\n",
    "    nrow6 = [0,0,0, kv2*complex(-Cv2a3,Sv2a3), kv2*complex(Cv2a3,Sv2a3), tao3*kw* complex(Cw,-Sw)]\n",
    "    \n",
    "    \n",
    "    nmat = np.array([nrow1,nrow2,nrow3,nrow4,nrow5,nrow6])\n",
    "    cons = np.array([complex(-Cu,Su), ku*(complex(Cu,-Su)),0,0,0,0])\n",
    "    \n",
    "    \n",
    "    answer = np.linalg.solve(nmat, cons)\n",
    "    Rval = answer[0]\n",
    "    D1val = answer[1]\n",
    "    U1val = answer[2]\n",
    "    D2val = answer[3]\n",
    "    U2val = answer[4]\n",
    "    Tval = answer[5]\n",
    "    \n",
    "    print(\"Reflectance and Transmittance Values: \")\n",
    "    print(\"R = \",Rval)\n",
    "    print(\"T = \",Tval)\n",
    "    #print(\"D1 = \",D1val)\n",
    "    #print(\"U1 = \",U1val)\n",
    "    #print(\"D2 = \", D2val)\n",
    "    #print(\"U2 = \",U2val)\n",
    "    \n",
    "    \n",
    "    #Conservation of Energy \n",
    "    eu = (abs(Rval))**2\n",
    "    ew = (kw/ku)*(abs(Tval)**2)\n",
    "    \n",
    "    delta = 1 - eu - (ku**2/kw**2)*ew\n",
    "    print(\"\\n\")\n",
    "    print(\"Conservation of Energy: \")\n",
    "    print(\"delta= \", delta)\n",
    "    \n",
    "def graph_plot():\n",
    "    P1 = [0,0.1,0.2,0.3,0.4,0.5,0.6,0.7,0.8,0.9,1.0]\n",
    "    T1 = [0.9999999999999996,0.9384076579820084,\n",
    "         0.7905907703317033,0.6231082548491449,\n",
    "         0.47667332326623363,0.3620531297902782,\n",
    "         0.2760763820156858,0.2122541242251262,\n",
    "         0.16468021311102665,0.12885665780945607,\n",
    "        0.10155709411010241]\n",
    "    plt.plot(P1,T1, label = \"2 Layered Meta-material\")\n",
    "    \n",
    "    P2 = [0,0.1,0.2,0.3,0.4,0.5,0.6,0.7,0.8,0.9,1.0]\n",
    "    T2 = [0.999999999996626,0.9994965337635457,\n",
    "          0.9994965337635457,0.9954748751107413,\n",
    "          0.9919647447500362,0.9874637502172039,\n",
    "          0.9819808004934081,0.9755266615560602,\n",
    "          0.9681138871142562,0.9597567408200651,\n",
    "         0.9504711112950164]\n",
    "    plt.plot(P2,T2, label = \"ENZ material\")\n",
    "    \n",
    "    \n",
    "    plt.xlabel('Percentage of Silver')\n",
    "    plt.ylabel('Transmittance')\n",
    "    plt.title('Silver/Glass vs ENZ Material')\n",
    "    plt.legend()\n",
    "    plt.show()\n",
    "    \n",
    "def main():\n",
    "    TM_four_layer_solver()\n",
    "    graph_plot()\n",
    "    \n",
    "main()"
   ]
  },
  {
   "cell_type": "code",
   "execution_count": null,
   "metadata": {},
   "outputs": [],
   "source": []
  }
 ],
 "metadata": {
  "kernelspec": {
   "display_name": "Python 3",
   "language": "python",
   "name": "python3"
  },
  "language_info": {
   "codemirror_mode": {
    "name": "ipython",
    "version": 3
   },
   "file_extension": ".py",
   "mimetype": "text/x-python",
   "name": "python",
   "nbconvert_exporter": "python",
   "pygments_lexer": "ipython3",
   "version": "3.7.9"
  }
 },
 "nbformat": 4,
 "nbformat_minor": 2
}
